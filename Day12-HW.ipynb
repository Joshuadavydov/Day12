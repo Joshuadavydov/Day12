{
 "cells": [
  {
   "cell_type": "markdown",
   "id": "33738fde-205d-4e95-b885-807e97a8adf6",
   "metadata": {},
   "source": [
    "## Introduction to Data Science\n",
    "\n",
    "#### University of Redlands - DATA 101\n",
    "#### Prof: Joanna Bieri [joanna_bieri@redlands.edu](mailto:joanna_bieri@redlands.edu)\n",
    "#### [Class Website: data101.joannabieri.com](https://joannabieri.com/data101.html)\n",
    "\n",
    "---------------------------------------\n",
    "# Homework Day 12\n",
    "---------------------------------------\n",
    "\n",
    "GOALS:\n",
    "\n",
    "1. Talk about Ethics of Web Scraping\n",
    "2. Practice web scraping.\n",
    "\n",
    "----------------------------------------------------------\n",
    "\n",
    "This homework has **3 questions**, **1 exercise** and **1 optional challenge problem**."
   ]
  },
  {
   "cell_type": "markdown",
   "id": "2bf78cd1",
   "metadata": {},
   "source": [
    "## Important Information\n",
    "\n",
    "- Email: [joanna_bieri@redlands.edu](mailto:joanna_bieri@redlands.edu)\n",
    "- Office Hours: Duke 209 <a href=\"https://joannabieri.com/schedule.html\"> Click Here for Joanna's Schedule</a>\n",
    "\n",
    "## Announcements\n",
    "\n",
    "**In NEXT WEEK - Data Ethics** This week you should be reading your book or articles.\n",
    "\n",
    "## Day 12 Assignment - same drill.\n",
    "\n",
    "1. Make sure you can **Fork** and **Clone** the Day12 repo from [Redlands-DATA101](https://github.com/Redlands-DATA101)\n",
    "2. Open the file Day12-HW.ipynb and start doing the problems.\n",
    "    * You can do these problems as you follow along with the lecture notes and video.\n",
    "3. Get as far as you can before class.\n",
    "4. Submit what you have so far **Commit** and **Push** to Git.\n",
    "5. Take the daily check in quiz on **Canvas**.\n",
    "7. Come to class with lots of questions!\n",
    "\n",
    "------------------------------\n",
    "---------------------\n",
    "\n",
    "### Web Scraping Ethical Issues\n",
    "\n",
    "There are some things to be aware of before you start scraping data from the web. \n",
    "\n",
    "- Some data is private or protected. Just because you have access to a websites data doesn't mean you are allowed to scrape it. For example, when you log into Facebook or another social media site, you are granted special access to data about your connected people. It is unethical to use that access to scrape their private data!\n",
    "\n",
    "- Some websites have rules against scraping and will cut of service to users who are clearly scraping data. How do they know? Webscrapers access the website very differently that regular users. If they site has a policy about scraping data then you should follow it and/or content them about getting the data if you have a true academic interest in the data.\n",
    "\n",
    "- The line between web scraping and plagiarism can be very blurry. Make sure that you are citing where your data comes from AND not just reproducing the data exactly. Always citing the source of your data and make sure you are doing something new with it.\n",
    "\n",
    "- Ethics are different depending on if you are using the data for a personal project (eg. you just want to check scores for your favorite team daily and print the stuff you care about) vs if you are using the project for your business or website (eg. publishing information to drive clicks to your site/video/account or making money from the data you collect). In the later case it is EXTRA important to respect the original owner of the data. Drive web traffic back to their site, check with them about using their data, etc.\n",
    "\n",
    "**The Ethical Scraper** (from https://towardsdatascience.com/ethics-in-web-scraping-b96b18136f01):\n",
    "\n",
    "I, the web scraper will live by the following principles:\n",
    "\n",
    "- If you have a public API that provides the data I’m looking for, I’ll use it and avoid scraping all together.\n",
    "- I will always provide a User Agent string that makes my intentions clear and provides a way for you to contact me with questions or concerns.\n",
    "- I will request data at a reasonable rate. I will strive to never be confused for a DDoS attack.\n",
    "- I will only save the data I absolutely need from your page. If all I need it OpenGraph meta-data, that’s all I’ll keep.\n",
    "- I will respect any content I do keep. I’ll never pass it off as my own.\n",
    "- I will look for ways to return value to you. Maybe I can drive some (real) traffic to your site or credit you in an article or post.\n",
    "- I will respond in a timely fashion to your outreach and work with you towards a resolution.\n",
    "- I will scrape for the purpose of creating new value from the data, not to duplicate it."
   ]
  },
  {
   "cell_type": "code",
   "execution_count": 4,
   "id": "b608007e",
   "metadata": {},
   "outputs": [],
   "source": [
    "import numpy as np\n",
    "import pandas as pd\n",
    "\n",
    "import matplotlib.pyplot as plt\n",
    "import plotly.express as px\n",
    "from plotly.subplots import make_subplots\n",
    "import plotly.io as pio\n",
    "pio.renderers.defaule = 'colab'\n",
    "\n",
    "from itables import show\n",
    "\n",
    "# This stops a few warning messages from showing\n",
    "pd.options.mode.chained_assignment = None \n",
    "import warnings\n",
    "warnings.simplefilter(action='ignore', category=FutureWarning)"
   ]
  },
  {
   "cell_type": "code",
   "execution_count": null,
   "id": "cd38c98b-cc3d-4150-973e-b7bc883f0b74",
   "metadata": {},
   "outputs": [],
   "source": []
  },
  {
   "cell_type": "markdown",
   "id": "3eec300d",
   "metadata": {},
   "source": [
    "## Using pandas to get table data.\n",
    "\n",
    "**Optional** - try using pandas to scrape a new site. See if you get errors or are able to find tables on that site.\n"
   ]
  },
  {
   "cell_type": "markdown",
   "id": "9faebc13",
   "metadata": {},
   "source": [
    "---\n",
    "---\n",
    "\n",
    "## Using Beautiful Soup to get HTML code\n",
    "\n",
    "### How to get data from static sites:\n",
    "\n",
    "You should already have the packages bs4 and requests but if you get an error try running:\n",
    "\n",
    "```{python}\n",
    "!conda install -y bs4\n",
    "!conda install -y requests\n",
    "```"
   ]
  },
  {
   "cell_type": "code",
   "execution_count": 13,
   "id": "1688f055",
   "metadata": {},
   "outputs": [],
   "source": [
    "import requests\n",
    "from bs4 import BeautifulSoup"
   ]
  },
  {
   "cell_type": "code",
   "execution_count": 21,
   "id": "aad9d963",
   "metadata": {
    "scrolled": true
   },
   "outputs": [],
   "source": [
    "website = 'https://www.scrapethissite.com/pages/simple/'"
   ]
  },
  {
   "cell_type": "code",
   "execution_count": 23,
   "id": "08ea4457",
   "metadata": {},
   "outputs": [],
   "source": [
    "raw_code = requests.get(website)\n",
    "html_doc = raw_code.text\n",
    "soup = BeautifulSoup(html_doc, 'html.parser')"
   ]
  },
  {
   "cell_type": "markdown",
   "id": "dd104b88",
   "metadata": {},
   "source": [
    "#### Lets see what is in soup\n",
    "\n",
    "**Q1** Uncomment this line and run the cell. You will see a TON of text!"
   ]
  },
  {
   "cell_type": "code",
   "execution_count": 27,
   "id": "98582e0c",
   "metadata": {},
   "outputs": [],
   "source": [
    "#soup"
   ]
  },
  {
   "cell_type": "markdown",
   "id": "8a248cb1",
   "metadata": {},
   "source": [
    "### Extracting data from HTML:\n",
    "\n",
    "We will use the **soup.find_all()** function.\n",
    "\n",
    "Here is the simplified function signature:\n",
    "\n",
    "    soup.find_all(name=None,attrs={})\n",
    "    \n",
    "You can type soup.find_all? and run it to see all the information about additional arguments and advanced processes.\n",
    "\n",
    "**Here is how we will mostly use it**, but there are much more advanced things you can do:\n",
    "\n",
    "    soup.find_all( <type of section>, <info> )\n",
    "    \n",
    "The **.find_all()** function searches through the information in soup to match and return only sections that match the info. Here are some important types you might search for:\n",
    "\n",
    "- 'h2' - this is a heading\n",
    "- 'div' - this divides a block of information\n",
    "- 'span' - this divides inline information\n",
    "- 'a' - this specifies a hyperlink\n",
    "- 'li' - this is a list item\n",
    "\n",
    "- class_= - many things have the class label (notice the underscore!)\n",
    "- string= - you can also search by strings.\n",
    "\n",
    "\n",
    "### Using Developer tools:\n",
    "\n",
    "To figure out what data to extract I suggest you use developer tools on the website to find what you need. \n",
    "\n",
    "**Q2** Navigate to the website and use developer tools to explore the html code.\n",
    "\n",
    "[Scrape This Site -  Website](https://www.scrapethissite.com/pages/simple/)\n",
    "\n",
    "I really like Brave Browser or Google Chrome for this, but most browsers with have **More Tools/Developer Tools** where you can see the code.\n",
    "\n",
    "### Search for all the country names\n",
    "\n",
    "The names of the country are inside \n",
    "        \n",
    "        <h3 class=\"country-name\">\n",
    "\n",
    "So lets search for this:"
   ]
  },
  {
   "cell_type": "code",
   "execution_count": 29,
   "id": "6129c2d5-5e75-4b22-8d94-87ea473528a2",
   "metadata": {},
   "outputs": [],
   "source": [
    "result = soup.find_all('span',class_=\"country-capital\")"
   ]
  },
  {
   "cell_type": "code",
   "execution_count": 31,
   "id": "bf0a0301-a7c3-4e79-a236-cce7547991aa",
   "metadata": {},
   "outputs": [
    {
     "data": {
      "text/plain": [
       "<span class=\"country-capital\">Andorra la Vella</span>"
      ]
     },
     "execution_count": 31,
     "metadata": {},
     "output_type": "execute_result"
    }
   ],
   "source": [
    "result[0]"
   ]
  },
  {
   "cell_type": "code",
   "execution_count": 48,
   "id": "95ad57dd-31e2-43e6-aa43-0b832af3aade",
   "metadata": {},
   "outputs": [
    {
     "data": {
      "text/plain": [
       "'Andorra la Vella'"
      ]
     },
     "execution_count": 48,
     "metadata": {},
     "output_type": "execute_result"
    }
   ],
   "source": [
    "result[0].text"
   ]
  },
  {
   "cell_type": "code",
   "execution_count": 49,
   "id": "aa7c4663-5aca-4899-95a6-9d83c310fe65",
   "metadata": {},
   "outputs": [
    {
     "data": {
      "text/html": [
       "<div>\n",
       "<style scoped>\n",
       "    .dataframe tbody tr th:only-of-type {\n",
       "        vertical-align: middle;\n",
       "    }\n",
       "\n",
       "    .dataframe tbody tr th {\n",
       "        vertical-align: top;\n",
       "    }\n",
       "\n",
       "    .dataframe thead th {\n",
       "        text-align: right;\n",
       "    }\n",
       "</style>\n",
       "<table border=\"1\" class=\"dataframe\">\n",
       "  <thead>\n",
       "    <tr style=\"text-align: right;\">\n",
       "      <th></th>\n",
       "      <th>capital</th>\n",
       "    </tr>\n",
       "  </thead>\n",
       "  <tbody>\n",
       "    <tr>\n",
       "      <th>0</th>\n",
       "      <td>Andorra la Vella</td>\n",
       "    </tr>\n",
       "    <tr>\n",
       "      <th>1</th>\n",
       "      <td>Abu Dhabi</td>\n",
       "    </tr>\n",
       "    <tr>\n",
       "      <th>2</th>\n",
       "      <td>Kabul</td>\n",
       "    </tr>\n",
       "    <tr>\n",
       "      <th>3</th>\n",
       "      <td>St. John's</td>\n",
       "    </tr>\n",
       "    <tr>\n",
       "      <th>4</th>\n",
       "      <td>The Valley</td>\n",
       "    </tr>\n",
       "    <tr>\n",
       "      <th>...</th>\n",
       "      <td>...</td>\n",
       "    </tr>\n",
       "    <tr>\n",
       "      <th>245</th>\n",
       "      <td>Sanaa</td>\n",
       "    </tr>\n",
       "    <tr>\n",
       "      <th>246</th>\n",
       "      <td>Mamoudzou</td>\n",
       "    </tr>\n",
       "    <tr>\n",
       "      <th>247</th>\n",
       "      <td>Pretoria</td>\n",
       "    </tr>\n",
       "    <tr>\n",
       "      <th>248</th>\n",
       "      <td>Lusaka</td>\n",
       "    </tr>\n",
       "    <tr>\n",
       "      <th>249</th>\n",
       "      <td>Harare</td>\n",
       "    </tr>\n",
       "  </tbody>\n",
       "</table>\n",
       "<p>250 rows × 1 columns</p>\n",
       "</div>"
      ],
      "text/plain": [
       "              capital\n",
       "0    Andorra la Vella\n",
       "1           Abu Dhabi\n",
       "2               Kabul\n",
       "3          St. John's\n",
       "4          The Valley\n",
       "..                ...\n",
       "245             Sanaa\n",
       "246         Mamoudzou\n",
       "247          Pretoria\n",
       "248            Lusaka\n",
       "249            Harare\n",
       "\n",
       "[250 rows x 1 columns]"
      ]
     },
     "execution_count": 49,
     "metadata": {},
     "output_type": "execute_result"
    }
   ],
   "source": [
    "# Create a data frame and add the site names\n",
    "DF = pd.DataFrame()\n",
    "DF['capital']=result\n",
    "DF['capital'] = DF['capital'].apply(lambda x: x.text)\n",
    "DF"
   ]
  },
  {
   "cell_type": "markdown",
   "id": "e89e9aa7-957a-4c03-9c2e-0909dcc9bb59",
   "metadata": {},
   "source": [
    "### Your turn to try this!\n",
    "\n",
    "**Q3** Now it's your turn. See if you can write code that gets the population and area information into the data frame. See if you can make your example match what I get below, including having the correct data types. Population should be an int and area should be a float.\n",
    "\n",
    "Your goal is to get a data frame that looks like the one in lecture with columns for country, capital, population, and area!"
   ]
  },
  {
   "cell_type": "code",
   "execution_count": 57,
   "id": "a9e248d2-2fa8-47df-a932-cdf8563fcced",
   "metadata": {},
   "outputs": [],
   "source": [
    "result_population = soup.find_all('span',class_=\"country-population\")\n",
    "result_area = soup.find_all('span',class_=\"country-area\")"
   ]
  },
  {
   "cell_type": "code",
   "execution_count": 61,
   "id": "da5135a9-cd99-4a29-9d67-3d3ca9c6da63",
   "metadata": {},
   "outputs": [
    {
     "name": "stdout",
     "output_type": "stream",
     "text": [
      "84000\n",
      "468.0\n"
     ]
    }
   ],
   "source": [
    "print(result_population[0].text)\n",
    "print(result_area[0].text)"
   ]
  },
  {
   "cell_type": "code",
   "execution_count": 67,
   "id": "0b35edda-f6b4-402d-8b7e-408d67c21276",
   "metadata": {},
   "outputs": [
    {
     "data": {
      "text/html": [
       "<table id=\"itables_e2c94556_b855_4a04_9ab6_e3735e698dc8\" class=\"display nowrap\" data-quarto-disable-processing=\"true\" style=\"table-layout:auto;width:auto;margin:auto;caption-side:bottom\">\n",
       "<thead>\n",
       "    <tr style=\"text-align: right;\">\n",
       "      \n",
       "      <th>population</th>\n",
       "      <th>area</th>\n",
       "    </tr>\n",
       "  </thead><tbody><tr>\n",
       "<td style=\"vertical-align:middle; text-align:left\">\n",
       "<div style=\"float:left; margin-right: 10px;\">\n",
       "<a href=https://mwouts.github.io/itables/><svg class=\"main-svg\" xmlns=\"http://www.w3.org/2000/svg\" xmlns:xlink=\"http://www.w3.org/1999/xlink\"\n",
       "width=\"64\" viewBox=\"0 0 500 400\" style=\"font-family: 'Droid Sans', sans-serif;\">\n",
       "    <g style=\"fill:#d9d7fc\">\n",
       "        <path d=\"M100,400H500V357H100Z\" />\n",
       "        <path d=\"M100,300H400V257H100Z\" />\n",
       "        <path d=\"M0,200H400V157H0Z\" />\n",
       "        <path d=\"M100,100H500V57H100Z\" />\n",
       "        <path d=\"M100,350H500V307H100Z\" />\n",
       "        <path d=\"M100,250H400V207H100Z\" />\n",
       "        <path d=\"M0,150H400V107H0Z\" />\n",
       "        <path d=\"M100,50H500V7H100Z\" />\n",
       "    </g>\n",
       "    <g style=\"fill:#1a1366;stroke:#1a1366;\">\n",
       "   <rect x=\"100\" y=\"7\" width=\"400\" height=\"43\">\n",
       "    <animate\n",
       "      attributeName=\"width\"\n",
       "      values=\"0;400;0\"\n",
       "      dur=\"5s\"\n",
       "      repeatCount=\"indefinite\" />\n",
       "      <animate\n",
       "      attributeName=\"x\"\n",
       "      values=\"100;100;500\"\n",
       "      dur=\"5s\"\n",
       "      repeatCount=\"indefinite\" />\n",
       "  </rect>\n",
       "        <rect x=\"0\" y=\"107\" width=\"400\" height=\"43\">\n",
       "    <animate\n",
       "      attributeName=\"width\"\n",
       "      values=\"0;400;0\"\n",
       "      dur=\"3.5s\"\n",
       "      repeatCount=\"indefinite\" />\n",
       "    <animate\n",
       "      attributeName=\"x\"\n",
       "      values=\"0;0;400\"\n",
       "      dur=\"3.5s\"\n",
       "      repeatCount=\"indefinite\" />\n",
       "  </rect>\n",
       "        <rect x=\"100\" y=\"207\" width=\"300\" height=\"43\">\n",
       "    <animate\n",
       "      attributeName=\"width\"\n",
       "      values=\"0;300;0\"\n",
       "      dur=\"3s\"\n",
       "      repeatCount=\"indefinite\" />\n",
       "    <animate\n",
       "      attributeName=\"x\"\n",
       "      values=\"100;100;400\"\n",
       "      dur=\"3s\"\n",
       "      repeatCount=\"indefinite\" />\n",
       "  </rect>\n",
       "        <rect x=\"100\" y=\"307\" width=\"400\" height=\"43\">\n",
       "    <animate\n",
       "      attributeName=\"width\"\n",
       "      values=\"0;400;0\"\n",
       "      dur=\"4s\"\n",
       "      repeatCount=\"indefinite\" />\n",
       "      <animate\n",
       "      attributeName=\"x\"\n",
       "      values=\"100;100;500\"\n",
       "      dur=\"4s\"\n",
       "      repeatCount=\"indefinite\" />\n",
       "  </rect>\n",
       "        <g style=\"fill:transparent;stroke-width:8; stroke-linejoin:round\" rx=\"5\">\n",
       "            <g transform=\"translate(45 50) rotate(-45)\">\n",
       "                <circle r=\"33\" cx=\"0\" cy=\"0\" />\n",
       "                <rect x=\"-8\" y=\"32\" width=\"16\" height=\"30\" />\n",
       "            </g>\n",
       "\n",
       "            <g transform=\"translate(450 152)\">\n",
       "                <polyline points=\"-15,-20 -35,-20 -35,40 25,40 25,20\" />\n",
       "                <rect x=\"-15\" y=\"-40\" width=\"60\" height=\"60\" />\n",
       "            </g>\n",
       "\n",
       "            <g transform=\"translate(50 352)\">\n",
       "                <polygon points=\"-35,-5 0,-40 35,-5\" />\n",
       "                <polygon points=\"-35,10 0,45 35,10\" />\n",
       "            </g>\n",
       "\n",
       "            <g transform=\"translate(75 250)\">\n",
       "                <polyline points=\"-30,30 -60,0 -30,-30\" />\n",
       "                <polyline points=\"0,30 -30,0 0,-30\" />\n",
       "            </g>\n",
       "\n",
       "            <g transform=\"translate(425 250) rotate(180)\">\n",
       "                <polyline points=\"-30,30 -60,0 -30,-30\" />\n",
       "                <polyline points=\"0,30 -30,0 0,-30\" />\n",
       "            </g>\n",
       "        </g>\n",
       "    </g>\n",
       "</svg>\n",
       "</a>\n",
       "</div>\n",
       "<div>\n",
       "Loading ITables v2.1.4 from the internet...\n",
       "(need <a href=https://mwouts.github.io/itables/troubleshooting.html>help</a>?)</td>\n",
       "</div>\n",
       "</tr></tbody>\n",
       "\n",
       "</table>\n",
       "<link href=\"https://www.unpkg.com/dt_for_itables@2.0.11/dt_bundle.css\" rel=\"stylesheet\">\n",
       "<script type=\"module\">\n",
       "    import {DataTable, jQuery as $} from 'https://www.unpkg.com/dt_for_itables@2.0.11/dt_bundle.js';\n",
       "\n",
       "    document.querySelectorAll(\"#itables_e2c94556_b855_4a04_9ab6_e3735e698dc8:not(.dataTable)\").forEach(table => {\n",
       "        // Define the table data\n",
       "        const data = [[\"84000\", \"468.0\"], [\"4975593\", \"82880.0\"], [\"29121286\", \"647500.0\"], [\"86754\", \"443.0\"], [\"13254\", \"102.0\"], [\"2986952\", \"28748.0\"], [\"2968000\", \"29800.0\"], [\"13068161\", \"1246700.0\"], [\"0\", \"1.4E7\"], [\"41343201\", \"2766890.0\"], [\"57881\", \"199.0\"], [\"8205000\", \"83858.0\"], [\"21515754\", \"7686850.0\"], [\"71566\", \"193.0\"], [\"26711\", \"1580.0\"], [\"8303512\", \"86600.0\"], [\"4590000\", \"51129.0\"], [\"285653\", \"431.0\"], [\"156118464\", \"144000.0\"], [\"10403000\", \"30510.0\"], [\"16241811\", \"274200.0\"], [\"7148785\", \"110910.0\"], [\"738004\", \"665.0\"], [\"9863117\", \"27830.0\"], [\"9056010\", \"112620.0\"], [\"8450\", \"21.0\"], [\"65365\", \"53.0\"], [\"395027\", \"5770.0\"], [\"9947418\", \"1098580.0\"], [\"18012\", \"328.0\"], [\"201103330\", \"8511965.0\"], [\"301790\", \"13940.0\"], [\"699847\", \"47000.0\"], [\"0\", \"49.0\"], [\"2029307\", \"600370.0\"], [\"9685000\", \"207600.0\"], [\"314522\", \"22966.0\"], [\"33679000\", \"9984670.0\"], [\"628\", \"14.0\"], [\"70916439\", \"2345410.0\"], [\"4844927\", \"622984.0\"], [\"3039126\", \"342000.0\"], [\"7581000\", \"41290.0\"], [\"21058798\", \"322460.0\"], [\"21388\", \"240.0\"], [\"16746491\", \"756950.0\"], [\"19294149\", \"475440.0\"], [\"1330044000\", \"9596960.0\"], [\"47790000\", \"1138910.0\"], [\"4516220\", \"51100.0\"], [\"11423000\", \"110860.0\"], [\"508659\", \"4033.0\"], [\"141766\", \"444.0\"], [\"1500\", \"135.0\"], [\"1102677\", \"9250.0\"], [\"10476000\", \"78866.0\"], [\"81802257\", \"357021.0\"], [\"740528\", \"23000.0\"], [\"5484000\", \"43094.0\"], [\"72813\", \"754.0\"], [\"9823821\", \"48730.0\"], [\"34586184\", \"2381740.0\"], [\"14790608\", \"283560.0\"], [\"1291170\", \"45226.0\"], [\"80471869\", \"1001450.0\"], [\"273008\", \"266000.0\"], [\"5792984\", \"121320.0\"], [\"46505963\", \"504782.0\"], [\"88013491\", \"1127127.0\"], [\"5244000\", \"337030.0\"], [\"875983\", \"18270.0\"], [\"2638\", \"12173.0\"], [\"107708\", \"702.0\"], [\"48228\", \"1399.0\"], [\"64768389\", \"547030.0\"], [\"1545255\", \"267667.0\"], [\"62348447\", \"244820.0\"], [\"107818\", \"344.0\"], [\"4630000\", \"69700.0\"], [\"195506\", \"91000.0\"], [\"65228\", \"78.0\"], [\"24339838\", \"239460.0\"], [\"27884\", \"6.5\"], [\"56375\", \"2166086.0\"], [\"1593256\", \"11300.0\"], [\"10324025\", \"245857.0\"], [\"443000\", \"1780.0\"], [\"1014999\", \"28051.0\"], [\"11000000\", \"131940.0\"], [\"30\", \"3903.0\"], [\"13550440\", \"108890.0\"], [\"159358\", \"549.0\"], [\"1565126\", \"36120.0\"], [\"748486\", \"214970.0\"], [\"6898686\", \"1092.0\"], [\"0\", \"412.0\"], [\"7989415\", \"112090.0\"], [\"4491000\", \"56542.0\"], [\"9648924\", \"27750.0\"], [\"9982000\", \"93030.0\"], [\"242968342\", \"1919440.0\"], [\"4622917\", \"70280.0\"], [\"7353985\", \"20770.0\"], [\"75049\", \"572.0\"], [\"1173108018\", \"3287590.0\"], [\"4000\", \"60.0\"], [\"29671605\", \"437072.0\"], [\"76923300\", \"1648000.0\"], [\"308910\", \"103000.0\"], [\"60340328\", \"301230.0\"], [\"90812\", \"116.0\"], [\"2847232\", \"10991.0\"], [\"6407085\", \"92300.0\"], [\"127288000\", \"377835.0\"], [\"40046566\", \"582650.0\"], [\"5776500\", \"198500.0\"], [\"14453680\", \"181040.0\"], [\"92533\", \"811.0\"], [\"773407\", \"2170.0\"], [\"51134\", \"261.0\"], [\"22912177\", \"120540.0\"], [\"48422644\", \"98480.0\"], [\"2789132\", \"17820.0\"], [\"44270\", \"262.0\"], [\"15340000\", \"2717300.0\"], [\"6368162\", \"236800.0\"], [\"4125247\", \"10400.0\"], [\"160922\", \"616.0\"], [\"35000\", \"160.0\"], [\"21513990\", \"65610.0\"], [\"3685076\", \"111370.0\"], [\"1919552\", \"30355.0\"], [\"2944459\", \"65200.0\"], [\"497538\", \"2586.0\"], [\"2217969\", \"64589.0\"], [\"6461454\", \"1759540.0\"], [\"31627428\", \"446550.0\"], [\"32965\", \"1.95\"], [\"4324000\", \"33843.0\"], [\"666730\", \"14026.0\"], [\"35925\", \"53.0\"], [\"21281844\", \"587040.0\"], [\"65859\", \"181.3\"], [\"2062294\", \"25333.0\"], [\"13796354\", \"1240000.0\"], [\"53414374\", \"678500.0\"], [\"3086918\", \"1565000.0\"], [\"449198\", \"254.0\"], [\"53883\", \"477.0\"], [\"432900\", \"1100.0\"], [\"3205060\", \"1030700.0\"], [\"9341\", \"102.0\"], [\"403000\", \"316.0\"], [\"1294104\", \"2040.0\"], [\"395650\", \"300.0\"], [\"15447500\", \"118480.0\"], [\"112468855\", \"1972550.0\"], [\"28274729\", \"329750.0\"], [\"22061451\", \"801590.0\"], [\"2128471\", \"825418.0\"], [\"216494\", \"19060.0\"], [\"15878271\", \"1267000.0\"], [\"1828\", \"34.6\"], [\"154000000\", \"923768.0\"], [\"5995928\", \"129494.0\"], [\"16645000\", \"41526.0\"], [\"5009150\", \"324220.0\"], [\"28951852\", \"140800.0\"], [\"10065\", \"21.0\"], [\"2166\", \"260.0\"], [\"4252277\", \"268680.0\"], [\"2967717\", \"212460.0\"], [\"3410676\", \"78200.0\"], [\"29907003\", \"1285220.0\"], [\"270485\", \"4167.0\"], [\"6064515\", \"462840.0\"], [\"99900177\", \"300000.0\"], [\"184404791\", \"803940.0\"], [\"38500000\", \"312685.0\"], [\"7012\", \"242.0\"], [\"46\", \"47.0\"], [\"3916632\", \"9104.0\"], [\"3800000\", \"5970.0\"], [\"10676000\", \"92391.0\"], [\"19907\", \"458.0\"], [\"6375830\", \"406750.0\"], [\"840926\", \"11437.0\"], [\"776948\", \"2517.0\"], [\"21959278\", \"237500.0\"], [\"7344847\", \"88361.0\"], [\"140702000\", \"1.71E7\"], [\"11055976\", \"26338.0\"], [\"25731776\", \"1960582.0\"], [\"559198\", \"28450.0\"], [\"88340\", \"455.0\"], [\"35000000\", \"1861484.0\"], [\"9828655\", \"449964.0\"], [\"4701069\", \"692.7\"], [\"7460\", \"410.0\"], [\"2007000\", \"20273.0\"], [\"2550\", \"62049.0\"], [\"5455000\", \"48845.0\"], [\"5245695\", \"71740.0\"], [\"31477\", \"61.2\"], [\"12323252\", \"196190.0\"], [\"10112453\", \"637657.0\"], [\"492829\", \"163270.0\"], [\"8260490\", \"644329.0\"], [\"175808\", \"1001.0\"], [\"6052064\", \"21040.0\"], [\"37429\", \"21.0\"], [\"22198110\", \"185180.0\"], [\"1354051\", \"17363.0\"], [\"20556\", \"430.0\"], [\"10543464\", \"1284000.0\"], [\"140\", \"7829.0\"], [\"6587239\", \"56785.0\"], [\"67089500\", \"514000.0\"], [\"7487489\", \"143100.0\"], [\"1466\", \"10.0\"], [\"1154625\", \"15007.0\"], [\"4940916\", \"488100.0\"], [\"10589025\", \"163610.0\"], [\"122580\", \"748.0\"], [\"77804122\", \"780580.0\"], [\"1228691\", \"5128.0\"], [\"10472\", \"26.0\"], [\"22894384\", \"35980.0\"], [\"41892895\", \"945087.0\"], [\"45415596\", \"603700.0\"], [\"33398682\", \"236040.0\"], [\"0\", \"0.0\"], [\"310232863\", \"9629091.0\"], [\"3477000\", \"176220.0\"], [\"27865738\", \"447400.0\"], [\"921\", \"0.44\"], [\"104217\", \"389.0\"], [\"27223228\", \"912050.0\"], [\"21730\", \"153.0\"], [\"108708\", \"352.0\"], [\"89571130\", \"329560.0\"], [\"221552\", \"12200.0\"], [\"16025\", \"274.0\"], [\"192001\", \"2944.0\"], [\"1800000\", \"10908.0\"], [\"23495361\", \"527970.0\"], [\"159042\", \"374.0\"], [\"49000000\", \"1219912.0\"], [\"13460305\", \"752614.0\"], [\"11651858\", \"390580.0\"]];\n",
       "\n",
       "        // Define the dt_args\n",
       "        let dt_args = {\"layout\": {\"topStart\": \"pageLength\", \"topEnd\": \"search\", \"bottomStart\": \"info\", \"bottomEnd\": \"paging\"}, \"order\": []};\n",
       "        dt_args[\"data\"] = data;\n",
       "\n",
       "        \n",
       "        new DataTable(table, dt_args);\n",
       "    });\n",
       "</script>\n"
      ],
      "text/plain": [
       "<IPython.core.display.HTML object>"
      ]
     },
     "metadata": {},
     "output_type": "display_data"
    }
   ],
   "source": [
    "DF = pd.DataFrame()\n",
    "DF['population']=result_population\n",
    "DF['area']= result_area\n",
    "\n",
    "DF['population'] = DF['population'].apply(lambda x: x.text)\n",
    "DF['area'] = DF['area'].apply(lambda x: x.text)\n",
    "\n",
    "\n",
    "show(DF)"
   ]
  },
  {
   "cell_type": "markdown",
   "id": "176e1115-9454-41ae-92fb-c65426fb2fd4",
   "metadata": {},
   "source": [
    "### Where can you get more practice\n",
    "\n",
    "Here is a website dedicated to allowing students to practice webscraping:\n",
    "\n",
    "[www.scrapethissite.com](https://www.scrapethissite.com/pages/)\n",
    "\n",
    "    website=https://www.scrapethissite.com/pages/\n",
    "-----------------\n",
    "### Exercise 1:\n",
    "\n",
    "We are going to scrape the site above to get the list of all links. \n",
    "\n",
    "Open the website and look at the developer tools.\n",
    "\n",
    "Here is our goal: Make a pandas data frame that contains three columns: \n",
    "\n",
    "* \"site_name\" - which contains just the words of the link\n",
    "* \"link\" - which contains just the website part of the link\n",
    "* \"description\" - which contains the words below the link\n",
    "\n",
    "When looking for links you can use\n",
    "\n",
    "    result = soup.find_all('a')\n",
    "    result[0].text # Get the text associated with the link\n",
    "    result[0].get('href') # Get the link location\n",
    "\n",
    "\n",
    "\n",
    "See if you can do this without looking at my code in the notes! What would your plan have to be?\n",
    "\n",
    "**See the lecture notes for hints and the solution!**\n"
   ]
  },
  {
   "cell_type": "code",
   "execution_count": 114,
   "id": "676cada0-3ced-417f-bfbe-04fb347d249d",
   "metadata": {},
   "outputs": [
    {
     "data": {
      "text/html": [
       "<div>\n",
       "<style scoped>\n",
       "    .dataframe tbody tr th:only-of-type {\n",
       "        vertical-align: middle;\n",
       "    }\n",
       "\n",
       "    .dataframe tbody tr th {\n",
       "        vertical-align: top;\n",
       "    }\n",
       "\n",
       "    .dataframe thead th {\n",
       "        text-align: right;\n",
       "    }\n",
       "</style>\n",
       "<table border=\"1\" class=\"dataframe\">\n",
       "  <thead>\n",
       "    <tr style=\"text-align: right;\">\n",
       "      <th></th>\n",
       "      <th>site_name</th>\n",
       "      <th>link</th>\n",
       "      <th>description</th>\n",
       "    </tr>\n",
       "  </thead>\n",
       "  <tbody>\n",
       "    <tr>\n",
       "      <th>5</th>\n",
       "      <td>Countries of the World: A Simple Example</td>\n",
       "      <td>https://www.scrapethissite.com/pages/simple/</td>\n",
       "      <td>A single page that lists information about all...</td>\n",
       "    </tr>\n",
       "    <tr>\n",
       "      <th>6</th>\n",
       "      <td>Hockey Teams: Forms, Searching and Pagination</td>\n",
       "      <td>https://www.scrapethissite.com/pages/forms/</td>\n",
       "      <td>Browse through a database of NHL team stats si...</td>\n",
       "    </tr>\n",
       "    <tr>\n",
       "      <th>7</th>\n",
       "      <td>Oscar Winning Films: AJAX and Javascript</td>\n",
       "      <td>https://www.scrapethissite.com/pages/ajax-java...</td>\n",
       "      <td>Click through a bunch of great films. Learn ho...</td>\n",
       "    </tr>\n",
       "    <tr>\n",
       "      <th>8</th>\n",
       "      <td>Turtles All the Way Down: Frames &amp; iFrames</td>\n",
       "      <td>https://www.scrapethissite.com/pages/frames/</td>\n",
       "      <td>Some older sites might still use frames to bre...</td>\n",
       "    </tr>\n",
       "    <tr>\n",
       "      <th>9</th>\n",
       "      <td>Advanced Topics: Real World Challenges You'll ...</td>\n",
       "      <td>https://www.scrapethissite.com/pages/advanced/</td>\n",
       "      <td>Scraping real websites, you're likely run into...</td>\n",
       "    </tr>\n",
       "  </tbody>\n",
       "</table>\n",
       "</div>"
      ],
      "text/plain": [
       "                                           site_name  \\\n",
       "5           Countries of the World: A Simple Example   \n",
       "6      Hockey Teams: Forms, Searching and Pagination   \n",
       "7           Oscar Winning Films: AJAX and Javascript   \n",
       "8         Turtles All the Way Down: Frames & iFrames   \n",
       "9  Advanced Topics: Real World Challenges You'll ...   \n",
       "\n",
       "                                                link  \\\n",
       "5       https://www.scrapethissite.com/pages/simple/   \n",
       "6        https://www.scrapethissite.com/pages/forms/   \n",
       "7  https://www.scrapethissite.com/pages/ajax-java...   \n",
       "8       https://www.scrapethissite.com/pages/frames/   \n",
       "9     https://www.scrapethissite.com/pages/advanced/   \n",
       "\n",
       "                                         description  \n",
       "5  A single page that lists information about all...  \n",
       "6  Browse through a database of NHL team stats si...  \n",
       "7  Click through a bunch of great films. Learn ho...  \n",
       "8  Some older sites might still use frames to bre...  \n",
       "9  Scraping real websites, you're likely run into...  "
      ]
     },
     "execution_count": 114,
     "metadata": {},
     "output_type": "execute_result"
    }
   ],
   "source": [
    "website = 'https://www.scrapethissite.com/pages/'\n",
    "raw = requests.get(website)\n",
    "html_doc = raw.text\n",
    "soup = BeautifulSoup(html_doc, 'html.parser')\n",
    "base_website = 'https://www.scrapethissite.com'\n",
    "\n",
    "result = soup.find_all('a')\n",
    "result[5].text.lstrip().rstrip()\n",
    "result[5].get('href')\n",
    "\n",
    "DF = pd.DataFrame()\n",
    "DF['site_name'] = result\n",
    "DF['link'] = result\n",
    "\n",
    "DF['site_name'] = DF['site_name'].apply(lambda x: x.text.lstrip().rstrip())\n",
    "DF['link'] = DF['link'].apply(lambda x: x.get('href'))\n",
    "DF['link'] = DF['link'].apply(lambda x: base_website+x)\n",
    "\n",
    "DF = DF.drop([0,1,2,3,4])\n",
    "\n",
    "result = soup.find_all('p',class_=\"lead session-desc\")\n",
    "\n",
    "DF['description'] = result\n",
    "DF['description'] = DF['description'].apply(lambda x: x.text.rstrip().lstrip())\n",
    "DF"
   ]
  },
  {
   "cell_type": "markdown",
   "id": "ccdc8ae8-0880-4abb-a9ef-7d497210ee34",
   "metadata": {},
   "source": [
    "### Challenge Problem\n",
    "\n",
    "Here is another website to scrape. See if you can create a data frame that looks like the one in the lecture notes. Notice that you can only scrape the first page with the first link. \n",
    "\n",
    "If you want to try scraping the other pages you have to notice how the website updates its address for each page. Then write a for loop to loop through how ever many pages you want to scrape. Do the same set of operations for each page keep adding data to your data frame.\n",
    "\n",
    "Make a histogram of your final data."
   ]
  },
  {
   "cell_type": "code",
   "execution_count": 11,
   "id": "267722fb-a33b-4969-82eb-26c94edd0bb6",
   "metadata": {},
   "outputs": [],
   "source": [
    "website='https://books.toscrape.com/index.html'\n",
    "raw_code = requests.get(website)\n",
    "html_doc = raw_code.text\n",
    "soup = BeautifulSoup(html_doc, 'html.parser')"
   ]
  },
  {
   "cell_type": "markdown",
   "id": "09b86c1d-5c13-4178-9685-c09922f4ec2d",
   "metadata": {},
   "source": [
    "**Try to scrape the name, the link to the book, and the prices! I decided to put the name and link information into a single column and then break that apart**"
   ]
  }
 ],
 "metadata": {
  "kernelspec": {
   "display_name": "Python 3 (ipykernel)",
   "language": "python",
   "name": "python3"
  },
  "language_info": {
   "codemirror_mode": {
    "name": "ipython",
    "version": 3
   },
   "file_extension": ".py",
   "mimetype": "text/x-python",
   "name": "python",
   "nbconvert_exporter": "python",
   "pygments_lexer": "ipython3",
   "version": "3.12.2"
  }
 },
 "nbformat": 4,
 "nbformat_minor": 5
}
